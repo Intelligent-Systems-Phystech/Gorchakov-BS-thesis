{
 "cells": [
  {
   "cell_type": "code",
   "execution_count": 1,
   "metadata": {},
   "outputs": [],
   "source": [
    "# Import namespaces\n",
    "import sys\n",
    "import os\n",
    "import math\n",
    "import itertools\n",
    "import json\n",
    "import numpy as np\n",
    "import scipy as scp\n",
    "import matplotlib.pyplot as plt\n",
    "import scipy.linalg as la\n",
    "import pandapower as pp\n",
    "from scipy.optimize import linprog, minimize\n",
    "from scipy.optimize import NonlinearConstraint\n",
    "import scipy.integrate as integrate\n",
    "\n",
    "from scipy.stats import norm\n",
    "from scipy.stats import uniform\n",
    "from scipy.stats import multinomial\n",
    "from scipy.linalg import pinvh\n",
    "from pandapower import networks\n",
    "\n",
    "from tqdm.notebook import tqdm, trange\n",
    "import time \n",
    "\n",
    "from numba import njit, jit"
   ]
  },
  {
   "cell_type": "markdown",
   "metadata": {},
   "source": [
    "# Setting up polytope\n",
    "[<img src=\"https://upload.wikimedia.org/wikipedia/commons/thumb/e/e5/Regular_polygon_8_annotated.svg/1200px-Regular_polygon_8_annotated.svg.png\" width=\"400\">]()\n"
   ]
  },
  {
   "cell_type": "code",
   "execution_count": 2,
   "metadata": {},
   "outputs": [],
   "source": [
    "##### Setup polytope and r.v. ########\n",
    "\n",
    "## Std considered to be 1: \n",
    "\n",
    "cov_std = 1\n",
    "\n",
    "##### Setup regular polytope ########\n",
    "### number of planes and distance\n",
    "J = 8\n",
    "tau = 3\n",
    "\n",
    "\n",
    "### Matrix \n",
    "x_An = []\n",
    "### Matrix rows\n",
    "for i in range(J):\n",
    "    x_An.append([math.sin(2 * math.pi * i / (J - 1)), math.cos(2 * math.pi * i / (J - 1))])\n",
    "x_An = np.array(x_An)\n",
    "### Distances\n",
    "x_bn = np.ones(J) * tau\n",
    "n = x_An.shape[1]"
   ]
  },
  {
   "cell_type": "markdown",
   "metadata": {},
   "source": [
    "# Distirbution of maximum of normals - LEMMA\n",
    "Let us first spend some words of the random variable\n",
    "$$\n",
    "Y = \\max_i (X_1, \\dots, X_m), ~X_i \\sim \\mathcal{N}(\\mu_i, \\sigma_i).\n",
    "$$\n",
    "In our case, we meet such random variable in the form of\n",
    "$$\n",
    "Y = \\max_i (a_i^\\top x - d_i - \\xi_i), ~ \\xi_i \\sim \\mathcal{N}(0, 1).\n",
    "$$\n",
    "In the case considered, $X_i = a_i^\\top x - d_i - \\xi_i \\sim \\mathcal{N}(\\mu_i, 1)$, where $\\mu_i = d_i - a_i^\\top x$.\n",
    "Let us obtain the distribution of the random variable $Y$ in a general case.\n",
    "\n",
    "First of all, let us note that\n",
    "$$\n",
    "F_Y(y) = \\mathbb{P}(\\max_i (X_1, \\dots, X_m) \\leq y).\n",
    "$$\n",
    "The event $\\max_i (X_1, \\dots, X_n) \\leq y$ means that each of the $X_i, ~ i=1,\\dots, m$ are less of equal to $y$. Thus, the cumulative distribution function of $Y$ is given as\n",
    "$$\n",
    "F_Y(y) = \\mathbb{P}(\\max_i (X_1, \\dots, X_m) \\leq y) = \\prod_{i=1}^m \\mathbb{P}(X_i \\leq y) = \\prod_{i=1}^m \\Phi \\left(\\frac{y - \\mu_i}{\\sigma_i} \\right).\n",
    "$$\n",
    "One can obtain the probability density function of $Y$ by taking partial derivative: $f_Y(y) = \\frac{\\partial}{\\partial y} F_Y(y)$. Let us make some preprocessing before the computation:\n",
    "$$\n",
    "F_Y(y) = \\prod_{i=1}^m \\Phi \\left(\\frac{y - \\mu_i}{\\sigma_i} \\right) = \\exp \\left[ \\sum_{i=1}^m \\log \\left( \\Phi \\left(\\frac{y - \\mu_i}{\\sigma_i} \\right) \\right) \\right].\n",
    "$$\n",
    "Taking the partial derivative $\\frac{\\partial}{\\partial y}$, one can easily obtain that\n",
    "$$\n",
    "f_Y(y) = \\frac{\\partial}{\\partial y} F_Y(y) = \\sum_{i=1}^m \\frac{\\phi\\left( (y - \\mu_i) / \\sigma_i\\right)}{\\sigma_i \\Phi\\left( (y - \\mu_i) / \\sigma_i\\right)} \\cdot \\exp \\left[ \\sum_{i=1}^m \\log \\left( \\Phi \\left(\\frac{y - \\mu_i}{\\sigma_i} \\right) \\right) \\right] = \\sum_{i=1}^m \\frac{\\phi\\left( (y - \\mu_i) / \\sigma_i\\right)}{\\sigma_i \\Phi\\left( (y - \\mu_i) / \\sigma_i\\right)} \\cdot \\prod_{i=1}^m \\Phi \\left(\\frac{y - \\mu_i}{\\sigma_i} \\right).\n",
    "$$\n",
    "\n",
    "Let us use the obtained result for the $Y = \\max_i (X_1, \\dots, X_m), ~X_i \\sim \\mathcal{N}(\\mu_i, \\sigma_i)$. In this case $Y$ will have the following probability density function:\n",
    "\\begin{equation}\n",
    "f_Y(y) = \\sum_{i=1}^m \\frac{\\phi\\left( y - \\mu_i \\right)}{\\Phi\\left( y - \\mu_i\\right)} \\cdot \\prod_{i=1}^m \\Phi \\left(y - \\mu_i \\right), ~ \\mu_i = a_i^\\top x - d_i\n",
    "\\label{eq:max_pdf}\n",
    "\\end{equation}\n",
    "\n",
    "- !Remark!\n",
    "\n",
    "For computational stability purpose it is recommended to use the following expression for the density $f_Y(y)$:\n",
    "$$\n",
    "f_Y(y) =  \\sum_{i=1}^m \\left[ \\frac{\\phi\\left( (y - \\mu_i) / \\sigma_i\\right)}{\\sigma_i} \\cdot \\prod_{j=1, j\\neq i}^m \\Phi \\left(\\frac{y - \\mu_i}{\\sigma_i} \\right)\\right].\n",
    "$$\n"
   ]
  },
  {
   "cell_type": "markdown",
   "metadata": {},
   "source": [
    "# Joint CC - Ground Truth\n",
    "$$\n",
    "    \\begin{aligned}\n",
    "        \\min_x ~ & c^\\top x \\\\\n",
    "        \\texttt{s.t. }   & \\mathbb{P} \\{ \\max_i (a_i^\\top x - d_i - \\xi_i) \\leq 0 \\} \\geq 1 - \\eta,\n",
    "    \\end{aligned}\n",
    "$$\n",
    "The problem can be reformulated as follows, using the knowledge about distributions of maximum:\n",
    "\n",
    "$$\n",
    "    \\begin{aligned}\n",
    "        \\min_x ~ & c^\\top x \\\\\n",
    "        \\texttt{s.t. }   & F_Y(0) =  \\prod_{i=1}^m \\Phi \\left(- (a_i^\\top x - d_i) \\right)\n",
    " \\geq 1 - \\eta,\n",
    "    \\end{aligned}\n",
    "$$\n",
    "Or, equivelently,\n",
    "$$\n",
    "    \\begin{aligned}\n",
    "        \\min_x ~ & c^\\top x \\\\\n",
    "        \\texttt{s.t. }   & \\sum_{i=1}^m \\log \\Phi \\left(- (a_i^\\top x - d_i) \\right) \\geq \\log(1 - \\eta),\n",
    "    \\end{aligned}\n",
    "$$"
   ]
  },
  {
   "cell_type": "code",
   "execution_count": 3,
   "metadata": {},
   "outputs": [],
   "source": [
    "def joint_cc_gt(x):\n",
    "    vec = np.dot(x_An, x) - x_bn\n",
    "    #mean = np.max(vec)\n",
    "    #return -mean\n",
    "    return np.sum(np.array([np.log(norm.cdf(-v)) for v in vec]))\n",
    "def objective(c, x):\n",
    "    return np.dot(c, x)\n",
    "def objective_barrier(c, x, constr_foo, r):\n",
    "    return np.dot(c, x[:n]) + r * np.max((0.,constr_foo(x))) ** 2\n",
    "def check_cc(x):\n",
    "    return np.exp(joint_cc_gt(x))\n",
    "def check_cc_scenario(x, nsmp=10000):\n",
    "    cnter = 0\n",
    "    vec = np.dot(x_An, x) - x_bn\n",
    "    for i in range(nsmp):\n",
    "        val = vec - np.random.normal(0, 1, len(vec))\n",
    "        if max(val) <= 0:\n",
    "            cnter += 1\n",
    "    return cnter / nsmp"
   ]
  },
  {
   "cell_type": "code",
   "execution_count": 4,
   "metadata": {},
   "outputs": [
    {
     "name": "stdout",
     "output_type": "stream",
     "text": [
      "obj: -2.0910276552156586\n",
      "x: [-1.04328128 -1.04774638]\n",
      "constraint value: 0.9000007837947754\n",
      "empirical constraint value: 0.8981\n"
     ]
    },
    {
     "name": "stderr",
     "output_type": "stream",
     "text": [
      "c:\\users\\user\\appdata\\local\\programs\\python\\python38\\lib\\site-packages\\scipy\\optimize\\_hessian_update_strategy.py:183: UserWarning: delta_grad == 0.0. Check if the approximated function is linear. If the function is linear better results can be obtained by defining the Hessian as zero instead of using quasi-Newton approximations.\n",
      "  warn('delta_grad == 0.0. Check if the approximated '\n"
     ]
    }
   ],
   "source": [
    "eta = 0.1\n",
    "def ground_truth(eta):\n",
    "    #eta = 0.1\n",
    "    cost_coeffs = np.ones(n)\n",
    "    nl_constraints = [NonlinearConstraint(joint_cc_gt, lb = [np.log(1. - eta)], ub=[np.inf], keep_feasible=True)]\n",
    "    res = minimize(fun=lambda x: objective(cost_coeffs, x), x0=[0.0, 0.0], constraints=nl_constraints, method='trust-constr')\n",
    "    #linprog(c = cost_coeffs, A_ub = x_An, b_ub = x_bn + norm.ppf(eta), bounds=[(l[i], u[i]) for i in range(len(l))])\n",
    "    return res\n",
    "res = ground_truth(eta)\n",
    "print(\"obj:\", res.fun)\n",
    "print(\"x:\", res.x)\n",
    "print(\"constraint value:\", check_cc(res.x))\n",
    "print(\"empirical constraint value:\", check_cc_scenario(res.x))"
   ]
  },
  {
   "cell_type": "markdown",
   "metadata": {},
   "source": [
    "# Outer Polyhedral Approximation -- Solving Linear Program\n",
    "\n",
    "\\begin{equation}\n",
    "    \\begin{aligned}\n",
    "        \\texttt{min }  &c^\\top x \\\\\n",
    "        \\texttt{s.t. } & \\mathbb{P} (a_i^\\top x - d_i \\leq \\xi_i) \\geq 1 - \\eta, ~ \\xi_i \\sim \\mathcal{N}(0, 1), ~i=1,\\dots, m\n",
    "    \\end{aligned}\n",
    "\\end{equation}\n",
    "\n",
    "The L.H.S of each constraint can be rewritten as \n",
    "$$\n",
    "\\mathbb{P} (a_i^\\top x - d_i \\leq \\xi_i) = \\mathbb{P} (-\\xi_i \\leq - a_i^\\top x + d_i) = \\texttt{cdf}_{\\mathcal{N}(0, 1)} (- a_i^\\top x + d_i).\n",
    "$$\n",
    "Thus, the problem can be reformulated as follows:\n",
    "\\begin{equation}\n",
    "    \\begin{aligned}\n",
    "        \\texttt{min }  &c^\\top x \\\\\n",
    "        \\texttt{s.t. } & \\texttt{cdf}_{\\mathcal{N}(0, 1)} (- a_i^\\top x + d_i) \\geq 1 - \\eta, ~ \\xi_i \\sim \\mathcal{N}(0, 1), ~i=1,\\dots, m\n",
    "    \\end{aligned}\n",
    "\\end{equation}\n",
    "\\begin{equation}\n",
    "    \\begin{aligned}\n",
    "        \\texttt{min }  &c^\\top x \\\\\n",
    "        \\texttt{s.t. } & \\texttt{cdf}_{\\mathcal{N}(0, 1)} (a_i^\\top x - d_i) \\leq \\eta, ~ \\xi_i \\sim \\mathcal{N}(0, 1), ~i=1,\\dots, m\n",
    "    \\end{aligned}\n",
    "\\end{equation}\n",
    "Finally,\n",
    "\\begin{equation}\n",
    "    \\begin{aligned}\n",
    "        \\texttt{min }  &c^\\top x \\\\\n",
    "        \\texttt{s.t. } & a_i^\\top x - d_i \\leq \\Phi^{-1}(\\eta), ~ \\xi_i \\sim \\mathcal{N}(0, 1), ~i=1,\\dots, m\n",
    "    \\end{aligned}\n",
    "\\end{equation}"
   ]
  },
  {
   "cell_type": "code",
   "execution_count": 5,
   "metadata": {},
   "outputs": [
    {
     "name": "stdout",
     "output_type": "stream",
     "text": [
      "obj: -2.6804168789722618\n",
      "x: [-1.49121366 -1.18920321]\n",
      "constraint value: 0.8018803551530523\n",
      "empirical constraint value: 0.8049\n"
     ]
    }
   ],
   "source": [
    "### Solving linear program\n",
    "### c^T gens -> min\n",
    "### s.t. A_n gens <= b_n + \\Phi^{-1}(eta)\n",
    "### l <= gens <= u *\n",
    "### * in such a way that only net.gen['bus'] are non-zero\n",
    "def outer_polyhedral(eta):\n",
    "    #eta = 0.1\n",
    "    cost_coeffs = np.ones(n)\n",
    "    l = -np.ones(x_An.shape[1]) * np.inf\n",
    "    u = np.ones(x_An.shape[1]) * np.inf\n",
    "    res = linprog(c = cost_coeffs, A_ub = x_An, b_ub = x_bn - norm.ppf(1-eta), bounds=[(l[i], u[i]) for i in range(len(l))])\n",
    "    return res\n",
    "res = outer_polyhedral(eta)\n",
    "print(\"obj:\", res.fun)\n",
    "print(\"x:\", res.x)\n",
    "print(\"constraint value:\", check_cc(res.x))\n",
    "print(\"empirical constraint value:\", check_cc_scenario(res.x))"
   ]
  },
  {
   "cell_type": "code",
   "execution_count": 6,
   "metadata": {
    "scrolled": false
   },
   "outputs": [
    {
     "data": {
      "image/png": "[encoded data removed]",
      "text/plain": [
       "<Figure size 720x336 with 1 Axes>"
      ]
     },
     "metadata": {
      "needs_background": "light"
     },
     "output_type": "display_data"
    }
   ],
   "source": [
    "# - \\Phi^{-1}(\\eta)\n",
    "plt.figure(figsize=(10,7*2/3))\n",
    "xs = np.linspace(0, 1, 1000)\n",
    "ys = [-norm.ppf(x) for x in xs]\n",
    "plt.plot(xs, ys)\n",
    "plt.xlabel(r'$\\eta$')\n",
    "plt.ylabel(r'$\\Phi^{-1}(\\eta)$')\n",
    "plt.title('Inverse cdf of standard normal')\n",
    "plt.show()"
   ]
  },
  {
   "cell_type": "markdown",
   "metadata": {},
   "source": [
    "# Inner Polyhedral Approximation -- Solving Linear Program\n",
    "Based on Bool's theorem, we obtain more strict (inner) approximation of the original problem:\n",
    "\\begin{equation}\n",
    "    \\begin{aligned}\n",
    "        \\texttt{min }  &c^\\top x \\\\\n",
    "        \\texttt{s.t. } & \\sum_{i=1}^m\\mathbb{P} (a_i^\\top x - d_i \\leq \\xi_i) \\geq 1 - \\eta, ~ \\xi_i \\sim \\mathcal{N}(0, 1)\n",
    "    \\end{aligned}\n",
    "\\end{equation}\n",
    "Equivalently,\n",
    "\\begin{equation}\n",
    "    \\begin{aligned}\n",
    "        \\texttt{min }  &c^\\top x \\\\\n",
    "        \\texttt{s.t. } & \\sum_{i=1}^m\\Phi(a_i^\\top x - d_i) \\leq  \\eta\n",
    "    \\end{aligned}\n",
    "\\end{equation}"
   ]
  },
  {
   "cell_type": "code",
   "execution_count": 7,
   "metadata": {},
   "outputs": [
    {
     "name": "stdout",
     "output_type": "stream",
     "text": [
      "obj: -2.075478533310101\n",
      "x: [-1.0378494  -1.04519809]\n",
      "constraint value: 0.9009739846601404\n",
      "empirical constraint value: 0.9039\n"
     ]
    }
   ],
   "source": [
    "def inner_polyhedral_constraint(x):\n",
    "    vec = np.dot(x_An, x) - x_bn\n",
    "    cdf_vec = [norm.cdf(v) for v in vec]\n",
    "    sum_ = np.sum(cdf_vec)\n",
    "    return sum_ - eta\n",
    "\n",
    "def inner_polyhedral(eta):\n",
    "    #eta = 0.1\n",
    "    cost_coeffs = np.ones(n)\n",
    "    res = minimize(fun=lambda x: objective_barrier(cost_coeffs, x, inner_polyhedral_constraint, 2000), x0=[-0.1, -0.1], method='Nelder-Mead')\n",
    "    #constraint = [NonlinearConstraint(lambda x: np.sum([norm.cdf(-np.dot(x_An[i,:], x) + x_bn[i])]),lb = 1 - eta, ub = np.inf)]\n",
    "    #res = minimize(fun=lambda x: objective(cost_coeffs, x), x0=[-0.1, -0.1], constraints=constraint, method='trust-constr')\n",
    "    return res\n",
    "res = inner_polyhedral(eta)\n",
    "print(\"obj:\", res.fun)\n",
    "print(\"x:\", res.x)\n",
    "print(\"constraint value:\", check_cc(res.x))\n",
    "print(\"empirical constraint value:\", check_cc_scenario(res.x))\n"
   ]
  },
  {
   "cell_type": "markdown",
   "metadata": {},
   "source": [
    "# Joint CC - Markov\n",
    "$$\n",
    "    \\begin{aligned}\n",
    "        \\min_x ~ & c^\\top x \\\\\n",
    "        \\texttt{s.t. }   & \\mathbb{E} \\left( \\max_i \\left( a_i^\\top x - d_i - \\xi_i \\right) + t \\right)_+ \\leq \\eta t,\n",
    "    \\end{aligned}\n",
    "$$\n",
    "The expectation can be computed as follows:\n",
    "$$\n",
    "\\mathbb{E} \\left( \\max_i \\left( a_i^\\top x - d_i - \\xi_i \\right) + t \\right)_+  = \\int (y + t)_+ f_Y(y) dy.\n",
    "$$\n",
    "Note that $f_Y(y) = f_Y(y, a_i, x, d_i)$."
   ]
  },
  {
   "cell_type": "code",
   "execution_count": 8,
   "metadata": {},
   "outputs": [],
   "source": [
    "@njit\n",
    "def pdf_max(y, mu):\n",
    "    out = 0.0\n",
    "    pdf_ = lambda x: 1. / np.sqrt(2 * np.pi) * np.exp(- 0.5 * x ** 2)\n",
    "    cdf_ = lambda x: 0.5 * (1. + math.erf(x / math.sqrt(2)))\n",
    "    for i in range(len(mu)):\n",
    "        #out += norm.pdf(y - mu[i]) * np.exp(np.sum([np.log(norm.cdf(y - mu[j])) for j in range(len(mu)) if j != i]))\n",
    "        out += pdf_(y - mu[i]) * np.prod(np.array([(cdf_(y - mu[j])) for j in range(len(mu)) if j != i]))\n",
    "    return out\n",
    "def compute_E(foo, density):\n",
    "    res = integrate.quad(lambda y: foo(y) * density(y), -np.inf, np.inf)\n",
    "    return res[0]\n"
   ]
  },
  {
   "cell_type": "code",
   "execution_count": 9,
   "metadata": {},
   "outputs": [
    {
     "name": "stdout",
     "output_type": "stream",
     "text": [
      "1.0\n",
      "execution time: 0.4160938262939453\n"
     ]
    }
   ],
   "source": [
    "x = np.ones(n)\n",
    "t = 0\n",
    "mu = (np.dot(x_An, x) - x_bn)\n",
    "density = lambda y: pdf_max(y, mu)\n",
    "foo = lambda y:  1\n",
    "t1 = time.time()\n",
    "print(compute_E(foo, density))\n",
    "t2 = time.time()\n",
    "print(\"execution time:\", t2 - t1)"
   ]
  },
  {
   "cell_type": "code",
   "execution_count": 10,
   "metadata": {},
   "outputs": [
    {
     "data": {
      "text/plain": [
       "[<matplotlib.lines.Line2D at 0x20c9e7d7dc0>]"
      ]
     },
     "execution_count": 10,
     "metadata": {},
     "output_type": "execute_result"
    },
    {
     "data": {
      "image/png": "[encoded data removed]",
      "text/plain": [
       "<Figure size 432x288 with 1 Axes>"
      ]
     },
     "metadata": {
      "needs_background": "light"
     },
     "output_type": "display_data"
    }
   ],
   "source": [
    "x = np.zeros(n) + 1\n",
    "mu = (np.dot(x_An, x) - x_bn)\n",
    "xs = np.linspace(-10, 10, 100)\n",
    "ys = [pdf_max(x, mu) for x in xs]\n",
    "plt.title(r'PDF of $Y = \\max (X_i)$')\n",
    "plt.plot(xs, ys)"
   ]
  },
  {
   "cell_type": "code",
   "execution_count": 11,
   "metadata": {},
   "outputs": [],
   "source": [
    "def constr_markov(var):\n",
    "    x = var[:-1]\n",
    "    t = var[-1]\n",
    "    mu = (np.dot(x_An, x) - x_bn)\n",
    "    density = lambda y: pdf_max(y, mu)\n",
    "    foo = lambda y: np.max((0., y + t))\n",
    "    integral = compute_E(foo=foo, density=density)\n",
    "    return integral - eta * t"
   ]
  },
  {
   "cell_type": "code",
   "execution_count": 12,
   "metadata": {
    "scrolled": false
   },
   "outputs": [
    {
     "name": "stdout",
     "output_type": "stream",
     "text": [
      "obj: -1.4166183417169185\n",
      "x: [-0.72658061 -0.73135665  0.35524105]\n",
      "constraint value: 0.9562760742453063\n",
      "empirical constraint value: 0.9567\n"
     ]
    }
   ],
   "source": [
    "def markov(eta):\n",
    "    #eta = 0.1\n",
    "    cost_coeffs = np.ones(n)\n",
    "    res = minimize(fun=lambda x: objective_barrier(cost_coeffs, x, constr_markov, 2000), x0=[0.1, 0.1, 0.1], method='Nelder-Mead')\n",
    "    return res\n",
    "res = markov(eta)\n",
    "print(\"obj:\", res.fun)\n",
    "print(\"x:\", res.x)\n",
    "print(\"constraint value:\", check_cc(res.x[:-1]))\n",
    "print(\"empirical constraint value:\", check_cc_scenario(res.x[:-1]))\n"
   ]
  },
  {
   "cell_type": "markdown",
   "metadata": {},
   "source": [
    "# Joint CC - Chebyshev\n",
    "$$\n",
    "    \\begin{aligned}\n",
    "        \\min_x ~ & c^\\top x \\\\\n",
    "        \\texttt{s.t. }   & \\mathbb{E} \\left( \\max_i \\left( a_i^\\top x - d_i - \\xi_i \\right) + t \\right)^2_+ \\leq \\eta t^2,\n",
    "    \\end{aligned}\n",
    "$$\n",
    "The expectation can be computed as follows:\n",
    "$$\n",
    "\\mathbb{E} \\left( \\max_i \\left( a_i^\\top x - d_i - \\xi_i \\right) + t \\right)^2_+  = \\int (y + t)^2_+ f_Y(y) dy.\n",
    "$$\n",
    "Note that $f_Y(y) = f_Y(y, a_i, x, d_i)$."
   ]
  },
  {
   "cell_type": "code",
   "execution_count": 13,
   "metadata": {},
   "outputs": [],
   "source": [
    "def constr_chebyshev(var):\n",
    "    x = var[:-1]\n",
    "    t = var[-1]\n",
    "    mu = (np.dot(x_An, x) - x_bn)\n",
    "    density = lambda y: pdf_max(y, mu)\n",
    "    foo = lambda y: np.max((0., y + t)) ** 2\n",
    "    integral = compute_E(foo=foo, density=density)\n",
    "    return integral - eta * t **2"
   ]
  },
  {
   "cell_type": "code",
   "execution_count": 14,
   "metadata": {},
   "outputs": [
    {
     "name": "stdout",
     "output_type": "stream",
     "text": [
      "obj: -1.2066379217410237\n",
      "x: [-0.61046925 -0.61863739  0.71616789]\n",
      "constraint value: 0.9681017104318804\n",
      "empirical constraint value: 0.9658\n"
     ]
    }
   ],
   "source": [
    "def chebyshev(eta):\n",
    "    #eta = 0.1\n",
    "    cost_coeffs = np.ones(n)\n",
    "    res = minimize(fun=lambda x: objective_barrier(cost_coeffs, x, constr_chebyshev, 2000), x0=[0.1, 0.1, 0.1], method='Nelder-Mead')\n",
    "    return res\n",
    "res = chebyshev(eta)\n",
    "print(\"obj:\", res.fun)\n",
    "print(\"x:\", res.x)\n",
    "print(\"constraint value:\", check_cc(res.x[:-1]))\n",
    "print(\"empirical constraint value:\", check_cc_scenario(res.x[:-1]))"
   ]
  },
  {
   "cell_type": "markdown",
   "metadata": {},
   "source": [
    "# Joint CC - Chernoff -- overflow in exp (does not work)\n",
    "$$\n",
    "    \\begin{aligned}\n",
    "        \\min_x ~ & c^\\top x \\\\\n",
    "        \\texttt{s.t. }   & \\log \\mathbb{E} \\exp \\left( \\max_i\\left[a_i^\\top x - d_i - \\xi_i\\right]/ t \\right) \\leq \\log \\eta,\n",
    "    \\end{aligned}\n",
    "$$\n",
    "The expectation can be computed as follows:\n",
    "$$\n",
    "\\mathbb{E} \\exp \\left( \\max_i \\left( a_i^\\top x - d_i - \\xi_i \\right) / t \\right)  = \\int \\exp(y / t) f_Y(y) dy.\n",
    "$$\n",
    "Note that $f_Y(y) = f_Y(y, a_i, x, d_i)$."
   ]
  },
  {
   "cell_type": "code",
   "execution_count": 15,
   "metadata": {},
   "outputs": [],
   "source": [
    "def constr_chernoff(var, t_=None):\n",
    "    if t_ == None:\n",
    "        x = var[:-1]\n",
    "        t = var[-1]\n",
    "    else:\n",
    "        x = var\n",
    "        t = t_\n",
    "    mu = (np.dot(x_An, x) - x_bn)\n",
    "    density = lambda y: pdf_max(y, mu)\n",
    "    foo = lambda y: np.exp(y / t)\n",
    "    integral = compute_E(foo=foo, density=density)\n",
    "    return np.log(integral) - np.log(eta)\n"
   ]
  },
  {
   "cell_type": "code",
   "execution_count": 16,
   "metadata": {
    "scrolled": true
   },
   "outputs": [
    {
     "name": "stderr",
     "output_type": "stream",
     "text": [
      "<ipython-input-15-32e73c4628cd>:10: RuntimeWarning: overflow encountered in exp\n",
      "  foo = lambda y: np.exp(y / t)\n",
      "<ipython-input-8-718375a38aa1>:11: RuntimeWarning: invalid value encountered in double_scalars\n",
      "  res = integrate.quad(lambda y: foo(y) * density(y), -np.inf, np.inf)\n",
      "<ipython-input-8-718375a38aa1>:11: IntegrationWarning: The occurrence of roundoff error is detected, which prevents \n",
      "  the requested tolerance from being achieved.  The error may be \n",
      "  underestimated.\n",
      "  res = integrate.quad(lambda y: foo(y) * density(y), -np.inf, np.inf)\n"
     ]
    },
    {
     "name": "stdout",
     "output_type": "stream",
     "text": [
      "obj: 6016.2599992441565\n",
      "x: [-0.08794664  0.01835193  2.63675251]\n",
      "constraint value: 0.988982033563946\n",
      "empirical constraint value: 0.9878\n"
     ]
    }
   ],
   "source": [
    "def chernoff(eta):\n",
    "    #eta = 0.1\n",
    "    cost_coeffs = np.ones(n)\n",
    "    res = minimize(fun=lambda x: objective_barrier(cost_coeffs, x, constr_chernoff, 2000), x0=[0.1, 0.1, 5.1], method='Nelder-Mead')\n",
    "    return res\n",
    "res = chernoff(eta)\n",
    "print(\"obj:\", res.fun)\n",
    "print(\"x:\", res.x)\n",
    "print(\"constraint value:\", check_cc(res.x[:-1]))\n",
    "print(\"empirical constraint value:\", check_cc_scenario(res.x[:-1]))"
   ]
  },
  {
   "cell_type": "markdown",
   "metadata": {},
   "source": [
    "# Scenario Approximation"
   ]
  },
  {
   "cell_type": "code",
   "execution_count": 17,
   "metadata": {},
   "outputs": [],
   "source": [
    "def scenario_approx(nsmp):\n",
    "    Xi = [np.random.normal(0, 1, x_An.shape[0]) for i in range(nsmp)]\n",
    "    x_An_scenario = np.concatenate([x_An for i in range(nsmp)])\n",
    "    x_bn_scenario = np.concatenate([x_bn + Xi[i] for i in range(nsmp)])\n",
    "    cost_coeffs = np.ones(n)\n",
    "    l = -np.ones(x_An.shape[1]) * np.inf\n",
    "    u = np.ones(x_An.shape[1]) * np.inf\n",
    "    res = linprog(c = cost_coeffs, A_ub = x_An_scenario, b_ub = x_bn_scenario, bounds=[(l[i], u[i]) for i in range(len(l))])\n",
    "    return res"
   ]
  },
  {
   "cell_type": "markdown",
   "metadata": {},
   "source": [
    "# Comparison for different probability thresholds"
   ]
  },
  {
   "cell_type": "code",
   "execution_count": 18,
   "metadata": {},
   "outputs": [
    {
     "name": "stdout",
     "output_type": "stream",
     "text": [
      "Scenario-100 proba: 0.9647730995241522\n"
     ]
    }
   ],
   "source": [
    "etas = [0.15, 0.2, 0.3, 0.4, 0.5, 0.6]\n",
    "approx_dict = {\"Ground Truth\": ground_truth, \"Markov\": markov, \"Chebyshev\": chebyshev, \"Chernoff\": chernoff, \"Outer Approximation\": outer_polyhedral, \"Inner Approximation\": inner_polyhedral}\n",
    "res_scenario_100 = scenario_approx(100)\n",
    "print(\"Scenario-100 proba:\", check_cc(res_scenario_100.x))"
   ]
  },
  {
   "cell_type": "code",
   "execution_count": 19,
   "metadata": {},
   "outputs": [
    {
     "name": "stderr",
     "output_type": "stream",
     "text": [
      "c:\\users\\user\\appdata\\local\\programs\\python\\python38\\lib\\site-packages\\scipy\\optimize\\_hessian_update_strategy.py:183: UserWarning: delta_grad == 0.0. Check if the approximated function is linear. If the function is linear better results can be obtained by defining the Hessian as zero instead of using quasi-Newton approximations.\n",
      "  warn('delta_grad == 0.0. Check if the approximated '\n",
      "<ipython-input-15-32e73c4628cd>:10: RuntimeWarning: overflow encountered in exp\n",
      "  foo = lambda y: np.exp(y / t)\n",
      "<ipython-input-8-718375a38aa1>:11: RuntimeWarning: invalid value encountered in double_scalars\n",
      "  res = integrate.quad(lambda y: foo(y) * density(y), -np.inf, np.inf)\n",
      "<ipython-input-8-718375a38aa1>:11: IntegrationWarning: The occurrence of roundoff error is detected, which prevents \n",
      "  the requested tolerance from being achieved.  The error may be \n",
      "  underestimated.\n",
      "  res = integrate.quad(lambda y: foo(y) * density(y), -np.inf, np.inf)\n"
     ]
    },
    {
     "data": {
      "image/png": "[encoded data removed]",
      "text/plain": [
       "<Figure size 1080x504 with 1 Axes>"
      ]
     },
     "metadata": {
      "needs_background": "light"
     },
     "output_type": "display_data"
    }
   ],
   "source": [
    "plt.figure(figsize=(15,7))\n",
    "for label, approx in approx_dict.items():\n",
    "    probas = []\n",
    "    for eta in etas:\n",
    "        approx_res = approx(eta)\n",
    "        if label != \"Ground Truth\" and label != \"Outer Approximation\" and label != \"Inner Approximation\":\n",
    "            probas.append(check_cc(approx_res.x[:-1]))\n",
    "        else:\n",
    "            probas.append(check_cc(approx_res.x))\n",
    "    plt.plot(1 - np.array(etas), probas, label=label)\n",
    "plt.hlines(y=check_cc(res_scenario_100.x), xmin=min(1-np.array(etas)), xmax=max(1-np.array(etas)), label='Scenario-100')\n",
    "plt.legend()\n",
    "plt.xlabel(r'$1-\\eta$')\n",
    "plt.ylabel(r'Probability of satistying the joint chance constraint')\n",
    "plt.show()"
   ]
  },
  {
   "cell_type": "code",
   "execution_count": null,
   "metadata": {},
   "outputs": [],
   "source": []
  }
 ],
 "metadata": {
  "kernelspec": {
   "display_name": "Python 3",
   "language": "python",
   "name": "python3"
  },
  "language_info": {
   "codemirror_mode": {
    "name": "ipython",
    "version": 3
   },
   "file_extension": ".py",
   "mimetype": "text/x-python",
   "name": "python",
   "nbconvert_exporter": "python",
   "pygments_lexer": "ipython3",
   "version": "3.8.2"
  }
 },
 "nbformat": 4,
 "nbformat_minor": 4
}
