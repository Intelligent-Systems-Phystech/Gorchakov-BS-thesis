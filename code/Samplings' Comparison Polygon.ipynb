{
 "cells": [
  {
   "cell_type": "code",
   "execution_count": 13,
   "metadata": {},
   "outputs": [],
   "source": [
    "# Import namespaces\n",
    "import sys\n",
    "import os\n",
    "import math\n",
    "import itertools\n",
    "import json\n",
    "import numpy as np\n",
    "import scipy as scp\n",
    "import matplotlib.pyplot as plt\n",
    "import scipy.linalg as la\n",
    "import pandapower as pp\n",
    "from scipy.optimize import linprog, minimize\n",
    "from scipy.optimize import NonlinearConstraint\n",
    "import scipy.integrate as integrate\n",
    "\n",
    "from scipy.stats import norm\n",
    "from scipy.stats import uniform\n",
    "from scipy.stats import multinomial\n",
    "from scipy.linalg import pinvh\n",
    "from pandapower import networks\n",
    "\n",
    "from tqdm.notebook import tqdm, trange\n",
    "import time "
   ]
  },
  {
   "cell_type": "markdown",
   "metadata": {},
   "source": [
    "# Setting up polytope"
   ]
  },
  {
   "cell_type": "code",
   "execution_count": 2,
   "metadata": {},
   "outputs": [],
   "source": [
    "##### Setup Grid fluctuation parameters and constraints ########\n",
    "\n",
    "## Std considered to be 1: \n",
    "\n",
    "cov_std = 1\n",
    "\n",
    "### Number of samples used in experiments\n",
    "### 500 is often enough\n",
    "### 10000 is a default value supresses the variance\n",
    "\n",
    "### Step-sizes for KL and Var minimization \n",
    "### works well with 0.1-0.01\n",
    "\n",
    "eta_vm = 0.1; \n",
    "eta_kl = 0.1; \n",
    "\n",
    "### Rounding threshold in optimization: \n",
    "### if a (normalized on the simplex) hpl probability becomes lower then 0.001\n",
    "### we increase it to this level\n",
    "###\n",
    "### Crucially affects numerical stability\n",
    "###\n",
    "\n",
    "eps = 0.001"
   ]
  },
  {
   "cell_type": "code",
   "execution_count": 3,
   "metadata": {},
   "outputs": [],
   "source": [
    "##### Setup regular polytope ########\n",
    "### number of planes and distance\n",
    "J = 5\n",
    "tau = 3\n",
    "\n",
    "\n",
    "### Matrix \n",
    "x_An = []\n",
    "### Matrix rows\n",
    "for i in range(J):\n",
    "    x_An.append([math.sin(2 * math.pi * i / (J - 1)), math.cos(2 * math.pi * i / (J - 1))])\n",
    "x_An = np.array(x_An)\n",
    "### Distances\n",
    "x_bn = np.ones(J) * tau\n",
    "n = x_An.shape[1]"
   ]
  },
  {
   "cell_type": "markdown",
   "metadata": {},
   "source": [
    "# Outer Polyhedral Approximation -- Solving Linear Program"
   ]
  },
  {
   "cell_type": "code",
   "execution_count": 4,
   "metadata": {},
   "outputs": [
    {
     "name": "stdout",
     "output_type": "stream",
     "text": [
      "obj: -2.7102927460863295\n",
      "x: [-1.35514637 -1.35514637]\n"
     ]
    }
   ],
   "source": [
    "### Solving linear program\n",
    "### c^T gens -> min\n",
    "### s.t. A_n gens <= b_n + \\Phi^{-1}(eta)\n",
    "### l <= gens <= u *\n",
    "### * in such a way that only net.gen['bus'] are non-zero\n",
    "eta = 0.05\n",
    "cost_coeffs = np.ones(n)\n",
    "l = -np.ones(x_An.shape[1]) * np.inf\n",
    "u = np.ones(x_An.shape[1]) * np.inf\n",
    "res = linprog(c = cost_coeffs, A_ub = x_An, b_ub = x_bn + norm.ppf(eta), bounds=[(l[i], u[i]) for i in range(len(l))])\n",
    "print(\"obj:\", res.fun)\n",
    "print(\"x:\", res.x)"
   ]
  },
  {
   "cell_type": "markdown",
   "metadata": {},
   "source": [
    "# Scenario Approximation"
   ]
  },
  {
   "cell_type": "code",
   "execution_count": 59,
   "metadata": {},
   "outputs": [],
   "source": [
    "nsmp_list = [10, 50, 100, 200, 500]\n",
    "n_tries = 50\n",
    "hist_data = {nsmp: {'obj': [], 'x': [], 'time': []} for nsmp in nsmp_list}"
   ]
  },
  {
   "cell_type": "code",
   "execution_count": 62,
   "metadata": {
    "scrolled": true
   },
   "outputs": [
    {
     "name": "stderr",
     "output_type": "stream",
     "text": [
      "<ipython-input-62-70ddb8d03ba4>:10: OptimizeWarning: Solving system with option 'cholesky':True failed. It is normal for this to happen occasionally, especially as the solution is approached. However, if you see this frequently, consider setting option 'cholesky' to False.\n",
      "  res = linprog(c = cost_coeffs, A_ub = x_An_scenario, b_ub = x_bn_scenario, bounds=[(l[i], u[i]) for i in range(len(l))])\n",
      "<ipython-input-62-70ddb8d03ba4>:10: OptimizeWarning: Solving system with option 'sym_pos':True failed. It is normal for this to happen occasionally, especially as the solution is approached. However, if you see this frequently, consider setting option 'sym_pos' to False.\n",
      "  res = linprog(c = cost_coeffs, A_ub = x_An_scenario, b_ub = x_bn_scenario, bounds=[(l[i], u[i]) for i in range(len(l))])\n",
      "c:\\users\\user\\appdata\\local\\programs\\python\\python38\\lib\\site-packages\\scipy\\optimize\\_linprog_ip.py:110: LinAlgWarning: Ill-conditioned matrix (rcond=2.73258e-20): result may not be accurate.\n",
      "  return sp.linalg.solve(M, r, sym_pos=sym_pos)\n",
      "c:\\users\\user\\appdata\\local\\programs\\python\\python38\\lib\\site-packages\\scipy\\optimize\\_linprog_ip.py:110: LinAlgWarning: Ill-conditioned matrix (rcond=7.86635e-20): result may not be accurate.\n",
      "  return sp.linalg.solve(M, r, sym_pos=sym_pos)\n",
      "c:\\users\\user\\appdata\\local\\programs\\python\\python38\\lib\\site-packages\\scipy\\optimize\\_linprog_ip.py:110: LinAlgWarning: Ill-conditioned matrix (rcond=4.00262e-21): result may not be accurate.\n",
      "  return sp.linalg.solve(M, r, sym_pos=sym_pos)\n",
      "c:\\users\\user\\appdata\\local\\programs\\python\\python38\\lib\\site-packages\\scipy\\optimize\\_linprog_ip.py:110: LinAlgWarning: Ill-conditioned matrix (rcond=8.70738e-21): result may not be accurate.\n",
      "  return sp.linalg.solve(M, r, sym_pos=sym_pos)\n",
      "c:\\users\\user\\appdata\\local\\programs\\python\\python38\\lib\\site-packages\\scipy\\optimize\\_linprog_ip.py:110: LinAlgWarning: Ill-conditioned matrix (rcond=2.33438e-93): result may not be accurate.\n",
      "  return sp.linalg.solve(M, r, sym_pos=sym_pos)\n",
      "c:\\users\\user\\appdata\\local\\programs\\python\\python38\\lib\\site-packages\\scipy\\optimize\\_linprog_ip.py:110: LinAlgWarning: Ill-conditioned matrix (rcond=2.30991e-86): result may not be accurate.\n",
      "  return sp.linalg.solve(M, r, sym_pos=sym_pos)\n",
      "<ipython-input-62-70ddb8d03ba4>:10: OptimizeWarning: Solving system with option 'sym_pos':False failed. This may happen occasionally, especially as the solution is approached. However, if you see this frequently, your problem may be numerically challenging. If you cannot improve the formulation, consider setting 'lstsq' to True. Consider also setting `presolve` to True, if it is not already.\n",
      "  res = linprog(c = cost_coeffs, A_ub = x_An_scenario, b_ub = x_bn_scenario, bounds=[(l[i], u[i]) for i in range(len(l))])\n",
      "c:\\users\\user\\appdata\\local\\programs\\python\\python38\\lib\\site-packages\\scipy\\optimize\\_linprog_ip.py:110: LinAlgWarning: Ill-conditioned matrix (rcond=8.33354e-20): result may not be accurate.\n",
      "  return sp.linalg.solve(M, r, sym_pos=sym_pos)\n",
      "c:\\users\\user\\appdata\\local\\programs\\python\\python38\\lib\\site-packages\\scipy\\optimize\\_linprog_ip.py:110: LinAlgWarning: Ill-conditioned matrix (rcond=2.22761e-19): result may not be accurate.\n",
      "  return sp.linalg.solve(M, r, sym_pos=sym_pos)\n",
      "c:\\users\\user\\appdata\\local\\programs\\python\\python38\\lib\\site-packages\\scipy\\optimize\\_linprog_ip.py:110: LinAlgWarning: Ill-conditioned matrix (rcond=3.62481e-21): result may not be accurate.\n",
      "  return sp.linalg.solve(M, r, sym_pos=sym_pos)\n",
      "c:\\users\\user\\appdata\\local\\programs\\python\\python38\\lib\\site-packages\\scipy\\optimize\\_linprog_ip.py:110: LinAlgWarning: Ill-conditioned matrix (rcond=1.48888e-24): result may not be accurate.\n",
      "  return sp.linalg.solve(M, r, sym_pos=sym_pos)\n",
      "c:\\users\\user\\appdata\\local\\programs\\python\\python38\\lib\\site-packages\\scipy\\optimize\\_linprog_ip.py:110: LinAlgWarning: Ill-conditioned matrix (rcond=4.16192e-20): result may not be accurate.\n",
      "  return sp.linalg.solve(M, r, sym_pos=sym_pos)\n",
      "c:\\users\\user\\appdata\\local\\programs\\python\\python38\\lib\\site-packages\\scipy\\optimize\\_linprog_ip.py:110: LinAlgWarning: Ill-conditioned matrix (rcond=2.11296e-21): result may not be accurate.\n",
      "  return sp.linalg.solve(M, r, sym_pos=sym_pos)\n",
      "c:\\users\\user\\appdata\\local\\programs\\python\\python38\\lib\\site-packages\\scipy\\optimize\\_linprog_ip.py:110: LinAlgWarning: Ill-conditioned matrix (rcond=6.62109e-24): result may not be accurate.\n",
      "  return sp.linalg.solve(M, r, sym_pos=sym_pos)\n",
      "c:\\users\\user\\appdata\\local\\programs\\python\\python38\\lib\\site-packages\\scipy\\optimize\\_linprog_ip.py:110: LinAlgWarning: Ill-conditioned matrix (rcond=2.49147e-52): result may not be accurate.\n",
      "  return sp.linalg.solve(M, r, sym_pos=sym_pos)\n",
      "c:\\users\\user\\appdata\\local\\programs\\python\\python38\\lib\\site-packages\\scipy\\optimize\\_linprog_ip.py:110: LinAlgWarning: Ill-conditioned matrix (rcond=5.75591e-21): result may not be accurate.\n",
      "  return sp.linalg.solve(M, r, sym_pos=sym_pos)\n",
      "c:\\users\\user\\appdata\\local\\programs\\python\\python38\\lib\\site-packages\\scipy\\optimize\\_linprog_ip.py:110: LinAlgWarning: Ill-conditioned matrix (rcond=2.9518e-26): result may not be accurate.\n",
      "  return sp.linalg.solve(M, r, sym_pos=sym_pos)\n",
      "c:\\users\\user\\appdata\\local\\programs\\python\\python38\\lib\\site-packages\\scipy\\optimize\\_linprog_ip.py:110: LinAlgWarning: Ill-conditioned matrix (rcond=3.35357e-21): result may not be accurate.\n",
      "  return sp.linalg.solve(M, r, sym_pos=sym_pos)\n",
      "c:\\users\\user\\appdata\\local\\programs\\python\\python38\\lib\\site-packages\\scipy\\optimize\\_linprog_ip.py:110: LinAlgWarning: Ill-conditioned matrix (rcond=2.14346e-22): result may not be accurate.\n",
      "  return sp.linalg.solve(M, r, sym_pos=sym_pos)\n",
      "c:\\users\\user\\appdata\\local\\programs\\python\\python38\\lib\\site-packages\\scipy\\optimize\\_linprog_ip.py:110: LinAlgWarning: Ill-conditioned matrix (rcond=5.83858e-25): result may not be accurate.\n",
      "  return sp.linalg.solve(M, r, sym_pos=sym_pos)\n",
      "c:\\users\\user\\appdata\\local\\programs\\python\\python38\\lib\\site-packages\\scipy\\optimize\\_linprog_ip.py:110: LinAlgWarning: Ill-conditioned matrix (rcond=2.58972e-23): result may not be accurate.\n",
      "  return sp.linalg.solve(M, r, sym_pos=sym_pos)\n",
      "c:\\users\\user\\appdata\\local\\programs\\python\\python38\\lib\\site-packages\\scipy\\optimize\\_linprog_ip.py:110: LinAlgWarning: Ill-conditioned matrix (rcond=2.40409e-23): result may not be accurate.\n",
      "  return sp.linalg.solve(M, r, sym_pos=sym_pos)\n",
      "c:\\users\\user\\appdata\\local\\programs\\python\\python38\\lib\\site-packages\\scipy\\optimize\\_linprog_ip.py:110: LinAlgWarning: Ill-conditioned matrix (rcond=2.31556e-21): result may not be accurate.\n",
      "  return sp.linalg.solve(M, r, sym_pos=sym_pos)\n",
      "c:\\users\\user\\appdata\\local\\programs\\python\\python38\\lib\\site-packages\\scipy\\optimize\\_linprog_ip.py:110: LinAlgWarning: Ill-conditioned matrix (rcond=1.023e-22): result may not be accurate.\n",
      "  return sp.linalg.solve(M, r, sym_pos=sym_pos)\n",
      "c:\\users\\user\\appdata\\local\\programs\\python\\python38\\lib\\site-packages\\scipy\\optimize\\_linprog_ip.py:110: LinAlgWarning: Ill-conditioned matrix (rcond=2.63918e-24): result may not be accurate.\n",
      "  return sp.linalg.solve(M, r, sym_pos=sym_pos)\n",
      "c:\\users\\user\\appdata\\local\\programs\\python\\python38\\lib\\site-packages\\scipy\\optimize\\_linprog_ip.py:110: LinAlgWarning: Ill-conditioned matrix (rcond=3.13737e-22): result may not be accurate.\n",
      "  return sp.linalg.solve(M, r, sym_pos=sym_pos)\n",
      "c:\\users\\user\\appdata\\local\\programs\\python\\python38\\lib\\site-packages\\scipy\\optimize\\_linprog_ip.py:110: LinAlgWarning: Ill-conditioned matrix (rcond=8.82117e-21): result may not be accurate.\n",
      "  return sp.linalg.solve(M, r, sym_pos=sym_pos)\n",
      "c:\\users\\user\\appdata\\local\\programs\\python\\python38\\lib\\site-packages\\scipy\\optimize\\_linprog_ip.py:110: LinAlgWarning: Ill-conditioned matrix (rcond=7.31936e-26): result may not be accurate.\n",
      "  return sp.linalg.solve(M, r, sym_pos=sym_pos)\n",
      "c:\\users\\user\\appdata\\local\\programs\\python\\python38\\lib\\site-packages\\scipy\\optimize\\_linprog_ip.py:110: LinAlgWarning: Ill-conditioned matrix (rcond=3.1558e-23): result may not be accurate.\n",
      "  return sp.linalg.solve(M, r, sym_pos=sym_pos)\n"
     ]
    }
   ],
   "source": [
    "# frist solve with small number, then, state the problem with more constraint with previous point obtained (warm start)\n",
    "for nsmp in nsmp_list:\n",
    "    for i in range(n_tries):\n",
    "        t1 = time.time()\n",
    "        Xi = [np.random.normal(0, 1, x_An.shape[1]) for i in range(nsmp)]\n",
    "        x_An_scenario = np.concatenate([x_An for i in range(nsmp)])\n",
    "        x_bn_scenario = np.concatenate([x_bn + Xi[i] for i in range(nsmp)])\n",
    "        cost_coeffs = np.ones(n)\n",
    "        l = -np.ones(x_An.shape[1]) * np.inf\n",
    "        u = np.ones(x_An.shape[1]) * np.inf\n",
    "        res = linprog(c = cost_coeffs, A_ub = x_An_scenario, b_ub = x_bn_scenario, bounds=[(l[i], u[i]) for i in range(len(l))])\n",
    "        t2 = time.time()\n",
    "        #print(\"obj:\", res.fun)\n",
    "        #print(\"x:\", res.x)\n",
    "        #print(\"time:\", t2 - t1, \"(s)\")\n",
    "        hist_data[nsmp]['obj'].append(res.fun)\n",
    "        hist_data[nsmp]['x'].append(res.x)\n",
    "        hist_data[nsmp]['time'].append(t2 - t1)"
   ]
  },
  {
   "cell_type": "code",
   "execution_count": 77,
   "metadata": {},
   "outputs": [
    {
     "data": {
      "image/png": "[encoded data removed]",
      "text/plain": [
       "<Figure size 1080x504 with 1 Axes>"
      ]
     },
     "metadata": {
      "needs_background": "light"
     },
     "output_type": "display_data"
    }
   ],
   "source": [
    "plt.figure(figsize=(15,7))\n",
    "for nsmp in hist_data.keys():\n",
    "    if nsmp <= 100:\n",
    "        plt.hist(hist_data[nsmp]['obj'], label='NoS=' + str(nsmp), alpha=0.6, bins=500)\n",
    "plt.legend()\n",
    "plt.show()"
   ]
  },
  {
   "cell_type": "markdown",
   "metadata": {},
   "source": [
    "# Ground truth -- has not been solved\n",
    "\n",
    "\\begin{equation}\n",
    "    \\begin{aligned}\n",
    "        \\texttt{min }  &c^\\top x \\\\\n",
    "        \\texttt{s.t. } & \\mathbb{P} (a_i^\\top x - d_i \\leq \\xi_i) \\geq 1 - \\eta, ~ \\xi_i \\sim \\mathcal{N}(0, 1), ~i=1,\\dots, m\n",
    "    \\end{aligned}\n",
    "\\end{equation}\n",
    "\n",
    "The L.H.S of each constraint can be rewritten as \n",
    "$$\n",
    "\\mathbb{P} (a_i^\\top x - d_i \\leq \\xi_i) = \\mathbb{P} (-\\xi_i \\leq - a_i^\\top x + d_i) = \\texttt{cdf}_{\\mathcal{N}(0, 1)} (- a_i^\\top x + d_i).\n",
    "$$\n",
    "Thus, the problem can be reformulated as follows:\n",
    "\\begin{equation}\n",
    "    \\begin{aligned}\n",
    "        \\texttt{min }  &c^\\top x \\\\\n",
    "        \\texttt{s.t. } & \\texttt{cdf}_{\\mathcal{N}(0, 1)} (- a_i^\\top x + d_i) \\geq 1 - \\eta, ~ \\xi_i \\sim \\mathcal{N}(0, 1), ~i=1,\\dots, m\n",
    "    \\end{aligned}\n",
    "\\end{equation}\n",
    "\\begin{equation}\n",
    "    \\begin{aligned}\n",
    "        \\texttt{min }  &c^\\top x \\\\\n",
    "        \\texttt{s.t. } & \\texttt{cdf}_{\\mathcal{N}(0, 1)} (a_i^\\top x - d_i) \\leq \\eta, ~ \\xi_i \\sim \\mathcal{N}(0, 1), ~i=1,\\dots, m\n",
    "    \\end{aligned}\n",
    "\\end{equation}"
   ]
  },
  {
   "cell_type": "code",
   "execution_count": 2,
   "metadata": {},
   "outputs": [
    {
     "data": {
      "text/plain": [
       "[<matplotlib.lines.Line2D at 0x23d9ba24f10>]"
      ]
     },
     "execution_count": 2,
     "metadata": {},
     "output_type": "execute_result"
    },
    {
     "data": {
      "image/png": "[encoded data removed]",
      "text/plain": [
       "<Figure size 432x288 with 1 Axes>"
      ]
     },
     "metadata": {
      "needs_background": "light"
     },
     "output_type": "display_data"
    }
   ],
   "source": [
    "# - \\Phi^{-1}(\\eta)\n",
    "xs = np.linspace(0, 1, 100)\n",
    "ys = [-norm.ppf(x) for x in xs]\n",
    "plt.plot(xs, ys)"
   ]
  },
  {
   "cell_type": "code",
   "execution_count": 125,
   "metadata": {},
   "outputs": [],
   "source": [
    "def cdf_from_row(x, i):\n",
    "    return norm.cdf( -np.dot(x_An[i], x) + x_bn[i])\n",
    "def pdf_from_row(x, i):\n",
    "    return -x_An[i] * norm.pdf( -np.dot(x_An[i], x) + x_bn[i])\n",
    "def objective(c, x):\n",
    "    return np.dot(c, x)"
   ]
  },
  {
   "cell_type": "code",
   "execution_count": 139,
   "metadata": {},
   "outputs": [],
   "source": [
    "def objective_barrier(x):\n",
    "    return np.dot(cost_coeffs, x) - np.sum([np.log(-1 + cdf_from_row(x, i) + eta)])"
   ]
  },
  {
   "cell_type": "code",
   "execution_count": 144,
   "metadata": {},
   "outputs": [
    {
     "name": "stderr",
     "output_type": "stream",
     "text": [
      "c:\\users\\user\\appdata\\local\\programs\\python\\python38\\lib\\site-packages\\scipy\\optimize\\_hessian_update_strategy.py:183: UserWarning: delta_grad == 0.0. Check if the approximated function is linear. If the function is linear better results can be obtained by defining the Hessian as zero instead of using quasi-Newton approximations.\n",
      "  warn('delta_grad == 0.0. Check if the approximated '\n"
     ]
    },
    {
     "name": "stdout",
     "output_type": "stream",
     "text": [
      "obj: -285.0918011583807\n",
      "x: [-286.28412876    1.1923276 ]\n"
     ]
    }
   ],
   "source": [
    "eta = 0.1\n",
    "cost_coeffs = np.ones(n)\n",
    "l = -np.ones(x_An.shape[1]) * np.inf\n",
    "u = np.ones(x_An.shape[1]) * np.inf\n",
    "nl_constraints = []\n",
    "for i in range(len(x_bn)):\n",
    "    nl_constraints.append(NonlinearConstraint(lambda x: cdf_from_row(x, i), 1. - eta, 1., jac=lambda x: pdf_from_row(x, i), keep_feasible=True))\n",
    "\n",
    "    \n",
    "res = minimize(fun=lambda x: objective(cost_coeffs, x), x0=[0.0, 0.0], constraints=nl_constraints, method='trust-constr')\n",
    "#linprog(c = cost_coeffs, A_ub = x_An, b_ub = x_bn + norm.ppf(eta), bounds=[(l[i], u[i]) for i in range(len(l))])\n",
    "print(\"obj:\", res.fun)\n",
    "print(\"x:\", res.x)"
   ]
  },
  {
   "cell_type": "code",
   "execution_count": 143,
   "metadata": {},
   "outputs": [
    {
     "name": "stdout",
     "output_type": "stream",
     "text": [
      "1.0\n",
      "1.0\n",
      "1.0\n",
      "1.0\n",
      "0.0\n",
      "0.0\n",
      "0.0\n",
      "0.0\n",
      "1.0\n",
      "1.0\n"
     ]
    }
   ],
   "source": [
    "for i in range(len(x_bn)):\n",
    "    print(cdf_from_row(res.x, i))"
   ]
  },
  {
   "cell_type": "markdown",
   "metadata": {},
   "source": [
    "# Markov\n",
    "The constraints can be approximated as convex Markov's approximation:\n",
    "$$\n",
    "\\mathbb{E} ( - \\xi_i + a_i^\\top - d_i + t_i)_+ \\leq \\eta t_i, ~i=1,\\dots, m.\n",
    "$$\n",
    "Further, computing the expectation in the left hand side, one can obtain\n",
    "$$\n",
    "-\\frac{1}{\\sqrt{2\\pi}} e^{-\\frac{1}{2} (a_i^\\top x - d_i + t_i)^2} + (a_i^\\top x - d_i + t_i) (1 - \\texttt{cdf}_{\\mathcal{N}(0,1)}(- a_i^\\top x + d_i - t_i)) \\leq \\eta t_i\n",
    "$$"
   ]
  },
  {
   "cell_type": "code",
   "execution_count": 6,
   "metadata": {},
   "outputs": [
    {
     "data": {
      "text/plain": [
       "[<matplotlib.lines.Line2D at 0x23d9e948820>]"
      ]
     },
     "execution_count": 6,
     "metadata": {},
     "output_type": "execute_result"
    },
    {
     "data": {
      "image/png": "[encoded data removed]",
      "text/plain": [
       "<Figure size 432x288 with 1 Axes>"
      ]
     },
     "metadata": {
      "needs_background": "light"
     },
     "output_type": "display_data"
    }
   ],
   "source": [
    "def markov_constr_1d(x):\n",
    "    first = - 1 / np.sqrt(2 * np.pi) * np.exp(- 0.5 * (x)**2)\n",
    "    second = (x) * norm.cdf(x)\n",
    "    return first + second\n",
    "xs = np.linspace(-10, 10, 100)\n",
    "ys = [markov_constr_1d(x) for x in xs]\n",
    "plt.plot(xs, ys)"
   ]
  },
  {
   "cell_type": "code",
   "execution_count": 150,
   "metadata": {},
   "outputs": [],
   "source": [
    "def markov_constr(var, i):\n",
    "    x = var[:2]\n",
    "    t = var[2:][i]\n",
    "    first = - 1 / np.sqrt(2 * np.pi) * np.exp(- 0.5 * (np.dot(x_An[i], x) - x_bn[i] + t)**2)\n",
    "    second = (np.dot(x_An[i], x) - x_bn[i] + t) * norm.cdf(x_An[i] - x_bn[i] + t) - eta * t\n",
    "    return first + second\n",
    "def objective_markov(x):\n",
    "    return np.dot(cost_coeffs, x[:2])"
   ]
  },
  {
   "cell_type": "code",
   "execution_count": 153,
   "metadata": {},
   "outputs": [
    {
     "name": "stderr",
     "output_type": "stream",
     "text": [
      "c:\\users\\user\\appdata\\local\\programs\\python\\python38\\lib\\site-packages\\scipy\\optimize\\_hessian_update_strategy.py:183: UserWarning: delta_grad == 0.0. Check if the approximated function is linear. If the function is linear better results can be obtained by defining the Hessian as zero instead of using quasi-Newton approximations.\n",
      "  warn('delta_grad == 0.0. Check if the approximated '\n"
     ]
    },
    {
     "name": "stdout",
     "output_type": "stream",
     "text": [
      "obj: -34063480.73912658\n",
      "x: [-12525083.20352325 -21538397.53560333         0.\n",
      "         0.                 0.                 0.\n",
      "         0.                 0.                 0.\n",
      "         0.                 0.           4722263.45985914]\n"
     ]
    }
   ],
   "source": [
    "eta = 0.1\n",
    "cost_coeffs = np.ones(n)\n",
    "nl_constraints = []\n",
    "for i in range(len(x_bn)):\n",
    "    nl_constraints.append(NonlinearConstraint(lambda x: markov_constr(x, i), -np.inf, 0., keep_feasible=True))\n",
    "\n",
    "    \n",
    "res = minimize(fun=lambda x: objective_markov(x), x0=np.zeros(2 + J), constraints=nl_constraints, method='trust-constr')\n",
    "#linprog(c = cost_coeffs, A_ub = x_An, b_ub = x_bn + norm.ppf(eta), bounds=[(l[i], u[i]) for i in range(len(l))])\n",
    "print(\"obj:\", res.fun)\n",
    "print(\"x:\", res.x)\n",
    "print(\"success:\", res.success)"
   ]
  },
  {
   "cell_type": "markdown",
   "metadata": {},
   "source": [
    "# Chebyshev\n",
    "The constraints can be approximated as convex Chebyshev's approximation:\n",
    "$$\n",
    "\\mathbb{E} ( - \\xi_i + a_i^\\top - d_i + t_i)^2_+ \\leq \\eta t_i, ~i=1,\\dots, m.\n",
    "$$\n",
    "Further, computing the expectation in the left hand side, one can obtain\n",
    "$$\n",
    "- \\frac{1}{\\sqrt{2 \\pi}} \\alpha_i(x) e^{-\\frac{\\alpha_i^2(x)}{2}} + \\texttt{cdf}_{\\mathcal{N}(0,1)}(- \\alpha_i(x)) (1 + \\alpha_i^2(x)) - 2 \\alpha_i(x) \\left( \\frac{1}{\\sqrt{2\\pi}} e^{-\\frac{\\alpha_i^2(x)}{2}} \\right) - \\eta t_i^2,\n",
    "$$\n",
    "where $\\alpha_i(x) = a_i^\\top x - d_i + t_i$"
   ]
  },
  {
   "cell_type": "markdown",
   "metadata": {},
   "source": [
    "# Chernoff\n",
    "The constraints can be approximated as convex Chernoff's approximation:\n",
    "$$\n",
    "\\log \\mathbb{E} \\exp \\left( (\\xi_i - a_i^\\top x + d_i)/ t_i \\right) \\leq \\log \\eta\n",
    "$$\n",
    "Further, simplifying the L.H.S., one can obtain\n",
    "$$\n",
    "\\frac{- a_i^\\top x + d_i}{t_i} + \\log \\mathbb{E} \\exp (\\xi_i / t_i).\n",
    "$$\n",
    "The last term is the cumulant generating function of $\\xi_i \\sim \\mathcal{N}(0,1)$ evaluated at $t_i$. Thus, the constraints can be approximated as follows:\n",
    "$$\n",
    "\\frac{- a_i^\\top x + d_i}{t_i} + \\frac{t_i^2}{2} \\leq \\log \\eta\n",
    "$$\n"
   ]
  },
  {
   "cell_type": "code",
   "execution_count": null,
   "metadata": {},
   "outputs": [],
   "source": [
    "# rewrite constraints \n",
    "#boyd lectures - check\n",
    "#nemirovsky lectures - chekc\n",
    "# laurent el ghaoui"
   ]
  },
  {
   "cell_type": "markdown",
   "metadata": {},
   "source": [
    "# Joint CC - Ground Truth\n",
    "$$\n",
    "    \\begin{aligned}\n",
    "        \\min_x ~ & c^\\top x \\\\\n",
    "        \\texttt{s.t. }   & \\mathbb{P} \\{ \\max_i (a_i^\\top x - d_i - \\xi_i) \\leq 0 \\} \\geq 1 - \\eta,\n",
    "    \\end{aligned}\n",
    "$$\n",
    "Here $\\xi_i \\sim \\mathcal{N}(0,1)$. Thus, $a_i^\\top x - d_i - \\xi_i \\sim \\mathcal{N}(a_i^\\top x - d_i, 1)$. Hence, \n",
    "$$\n",
    "    \\begin{aligned}\n",
    "        \\min_x ~ & c^\\top x \\\\\n",
    "        \\texttt{s.t. }   & \\texttt{cdf}_{\\mathcal{N}\\left(\\max_i (a_i^\\top x - d_i), 1\\right)}(0) \\geq 1 - \\eta,\n",
    "    \\end{aligned}\n",
    "$$"
   ]
  },
  {
   "cell_type": "code",
   "execution_count": 10,
   "metadata": {},
   "outputs": [],
   "source": [
    "def joint_cc_gt(x):\n",
    "    vec = np.dot(x_An, x) - x_bn\n",
    "    mean = np.max(vec)\n",
    "    return norm(mean, 1).cdf(0)\n",
    "def objective(c, x):\n",
    "    return np.dot(c, x)"
   ]
  },
  {
   "cell_type": "code",
   "execution_count": 15,
   "metadata": {},
   "outputs": [
    {
     "name": "stderr",
     "output_type": "stream",
     "text": [
      "c:\\users\\user\\appdata\\local\\programs\\python\\python38\\lib\\site-packages\\scipy\\optimize\\_hessian_update_strategy.py:183: UserWarning: delta_grad == 0.0. Check if the approximated function is linear. If the function is linear better results can be obtained by defining the Hessian as zero instead of using quasi-Newton approximations.\n",
      "  warn('delta_grad == 0.0. Check if the approximated '\n"
     ]
    },
    {
     "name": "stdout",
     "output_type": "stream",
     "text": [
      "obj: -2.699362134353054\n",
      "x: [-1.35092234 -1.34843979]\n"
     ]
    }
   ],
   "source": [
    "eta = 0.05\n",
    "cost_coeffs = np.ones(n)\n",
    "nl_constraints = [NonlinearConstraint(joint_cc_gt, lb = [1. - eta], ub=[1], keep_feasible=True)]\n",
    "res = minimize(fun=lambda x: objective(cost_coeffs, x), x0=[0.0, 0.0], constraints=nl_constraints, method='trust-constr')\n",
    "#linprog(c = cost_coeffs, A_ub = x_An, b_ub = x_bn + norm.ppf(eta), bounds=[(l[i], u[i]) for i in range(len(l))])\n",
    "print(\"obj:\", res.fun)\n",
    "print(\"x:\", res.x)"
   ]
  },
  {
   "cell_type": "code",
   "execution_count": 16,
   "metadata": {},
   "outputs": [
    {
     "data": {
      "text/plain": [
       "0.950434136962111"
      ]
     },
     "execution_count": 16,
     "metadata": {},
     "output_type": "execute_result"
    }
   ],
   "source": [
    "joint_cc_gt(res.x)"
   ]
  },
  {
   "cell_type": "markdown",
   "metadata": {},
   "source": [
    "# Joint CC - Markov\n",
    "$$\n",
    "    \\begin{aligned}\n",
    "        \\min_x ~ & c^\\top x \\\\\n",
    "        \\texttt{s.t. }   & \\mathbb{E} \\left( \\max_i \\left( a_i^\\top x - d_i - \\xi_i \\right) + t \\right)_+ \\leq \\eta t,\n",
    "    \\end{aligned}\n",
    "$$"
   ]
  },
  {
   "cell_type": "code",
   "execution_count": 125,
   "metadata": {},
   "outputs": [],
   "source": [
    "def jcc_markov_under_exp(x, t, xi):\n",
    "    ### xi - is a vector of len(x_bn)!!!\n",
    "    vec = np.dot(x_An, x) - x_bn - xi\n",
    "    max_val = np.max(vec)\n",
    "    return np.max((max_val + t), 0)\n",
    "\n",
    "def jcc_markov_exp(x, t):\n",
    "    res = integrate.quad(lambda xi: jcc_markov_under_exp(x, t, xi) / np.sqrt(2 * np.pi) * np.exp(- 0.5 * xi**2), -np.inf, +np.inf)\n",
    "    return res[0]\n",
    "def jcc_markov_constr(var):\n",
    "    x = var[:n]\n",
    "    t = var[-1]\n",
    "    return jcc_markov_exp(x, t) - eta * t\n",
    "def objective_markov(c, x):\n",
    "    return np.dot(c, x[:n])\n",
    "def objective_markov_barrier(c, x):\n",
    "    return np.dot(c, x[:n]) + 20000 * np.max((0.,jcc_markov_constr(x))) ** 2 #- np.log(-jcc_markov_constr(x))"
   ]
  },
  {
   "cell_type": "code",
   "execution_count": 126,
   "metadata": {},
   "outputs": [
    {
     "name": "stdout",
     "output_type": "stream",
     "text": [
      "obj: -3.409202787723539\n",
      "x: [-1.70465189 -1.70461218  1.43933718]\n"
     ]
    }
   ],
   "source": [
    "eta = 0.1\n",
    "cost_coeffs = np.ones(n)\n",
    "res = minimize(fun=lambda x: objective_markov_barrier(cost_coeffs, x), x0=[0.0, 0.0, 0.0], method='Nelder-Mead')\n",
    "#linprog(c = cost_coeffs, A_ub = x_An, b_ub = x_bn + norm.ppf(eta), bounds=[(l[i], u[i]) for i in range(len(l))])\n",
    "print(\"obj:\", res.fun)\n",
    "print(\"x:\", res.x)"
   ]
  },
  {
   "cell_type": "code",
   "execution_count": 127,
   "metadata": {},
   "outputs": [
    {
     "name": "stdout",
     "output_type": "stream",
     "text": [
      "constraint value = 5.535398686362658e-05\n",
      "original constraint value = 0.9023999155263599\n"
     ]
    }
   ],
   "source": [
    "print(\"constraint value =\", jcc_markov_constr(res.x))\n",
    "print(\"original constraint value =\", joint_cc_gt(res.x[:2]))"
   ]
  },
  {
   "cell_type": "raw",
   "metadata": {},
   "source": [
    "eta = 0.1\n",
    "cost_coeffs = np.ones(n)\n",
    "nl_constraints = [NonlinearConstraint(jcc_markov_constr, lb = -np.inf, ub=0.0, keep_feasible=True)]\n",
    "res = minimize(fun=lambda x: objective_markov(cost_coeffs, x), x0=[-1.35092234, -1.34843979, 0.0], constraints=nl_constraints, method='trust-constr')\n",
    "#linprog(c = cost_coeffs, A_ub = x_An, b_ub = x_bn + norm.ppf(eta), bounds=[(l[i], u[i]) for i in range(len(l))])\n",
    "print(\"obj:\", res.fun)\n",
    "print(\"x:\", res.x)"
   ]
  },
  {
   "cell_type": "markdown",
   "metadata": {},
   "source": [
    "# Joint CC - Chebyshev\n",
    "$$\n",
    "    \\begin{aligned}\n",
    "        \\min_x ~ & c^\\top x \\\\\n",
    "        \\texttt{s.t. }   & \\mathbb{E} \\left( \\max_i \\left( a_i^\\top x - d_i - \\xi_i \\right) + t \\right)^2_+ \\leq \\eta t^2,\n",
    "    \\end{aligned}\n",
    "$$"
   ]
  },
  {
   "cell_type": "code",
   "execution_count": 131,
   "metadata": {},
   "outputs": [],
   "source": [
    "def jcc_chebyshev_under_exp(x, t, xi):\n",
    "    ### xi - is a vector of len(x_bn)!!!\n",
    "    vec = np.dot(x_An, x) - x_bn - xi\n",
    "    max_val = np.max(vec)\n",
    "    return np.max((max_val + t), 0) ** 2\n",
    "\n",
    "def jcc_chebyshev_exp(x, t):\n",
    "    res = integrate.quad(lambda xi: jcc_chebyshev_under_exp(x, t, xi) / np.sqrt(2 * np.pi) * np.exp(- 0.5 * xi**2), -np.inf, +np.inf)\n",
    "    return res[0]\n",
    "def jcc_chebyshev_constr(var):\n",
    "    x = var[:n]\n",
    "    t = var[-1]\n",
    "    return jcc_chebyshev_exp(x, t) - eta * t ** 2\n",
    "def objective_chebyshev(c, x):\n",
    "    return np.dot(c, x[:n])\n",
    "def objective_chebyshev_barrier(c, x):\n",
    "    return np.dot(c, x[:n]) + 10000 * np.max((0.,jcc_chebyshev_constr(x))) ** 2 #- np.log(-jcc_markov_constr(x))"
   ]
  },
  {
   "cell_type": "code",
   "execution_count": 132,
   "metadata": {
    "scrolled": true
   },
   "outputs": [
    {
     "name": "stdout",
     "output_type": "stream",
     "text": [
      "obj: 1.8527826858419296\n",
      "x: [ 0.01223327 -0.01263649  3.24323291]\n"
     ]
    }
   ],
   "source": [
    "eta = 0.1\n",
    "cost_coeffs = np.ones(n)\n",
    "res = minimize(fun=lambda x: objective_chebyshev_barrier(cost_coeffs, x), x0=[0.0, 0.0, 0.0], method='Nelder-Mead')\n",
    "#linprog(c = cost_coeffs, A_ub = x_An, b_ub = x_bn + norm.ppf(eta), bounds=[(l[i], u[i]) for i in range(len(l))])\n",
    "print(\"obj:\", res.fun)\n",
    "print(\"x:\", res.x)"
   ]
  },
  {
   "cell_type": "code",
   "execution_count": 133,
   "metadata": {},
   "outputs": [
    {
     "name": "stdout",
     "output_type": "stream",
     "text": [
      "constraint value = 0.013613177075289418\n",
      "original constraint value = 0.9985930254475449\n"
     ]
    }
   ],
   "source": [
    "print(\"constraint value =\", jcc_chebyshev_constr(res.x))\n",
    "print(\"original constraint value =\", joint_cc_gt(res.x[:n]))"
   ]
  },
  {
   "cell_type": "markdown",
   "metadata": {},
   "source": [
    "# Joint CC - Chernoff\n",
    "$$\n",
    "    \\begin{aligned}\n",
    "        \\min_x ~ & c^\\top x \\\\\n",
    "        \\texttt{s.t. }   & \\log \\mathbb{E} \\exp \\left( \\max_i\\left[\\xi_i - a_i^\\top x + d_i\\right]/ t \\right) \\leq \\log \\eta,\n",
    "    \\end{aligned}\n",
    "$$\n"
   ]
  },
  {
   "cell_type": "code",
   "execution_count": 142,
   "metadata": {},
   "outputs": [],
   "source": [
    "def jcc_chernoff_under_exp(x, t, xi):\n",
    "    ### xi - is a vector of len(x_bn)!!!\n",
    "    vec = np.dot(x_An, x) - x_bn - xi\n",
    "    max_val = np.max(vec)\n",
    "    return np.exp(max_val / t)\n",
    "\n",
    "def jcc_chernoff_exp(x, t):\n",
    "    res = integrate.quad(lambda xi: jcc_chernoff_under_exp(x, t, xi) / np.sqrt(2 * np.pi) * np.exp(- 0.5 * xi**2), -np.inf, +np.inf)\n",
    "    return res[0]\n",
    "def jcc_chernoff_constr(var):\n",
    "    x = var[:n]\n",
    "    t = var[-1]\n",
    "    return np.log(jcc_chernoff_exp(x, t)) - np.log(eta)\n",
    "def objective_chernoff_barrier(c, x):\n",
    "    return np.dot(c, x[:n]) + 1000 * np.max((0.,jcc_chernoff_constr(x))) ** 2 #- np.log(-jcc_markov_constr(x))"
   ]
  },
  {
   "cell_type": "code",
   "execution_count": 143,
   "metadata": {},
   "outputs": [
    {
     "name": "stderr",
     "output_type": "stream",
     "text": [
      "<ipython-input-142-8e57c903d54c>:5: RuntimeWarning: overflow encountered in exp\n",
      "  return np.exp(max_val / t)\n",
      "<ipython-input-142-8e57c903d54c>:8: RuntimeWarning: invalid value encountered in double_scalars\n",
      "  res = integrate.quad(lambda xi: jcc_chernoff_under_exp(x, t, xi) / np.sqrt(2 * np.pi) * np.exp(- 0.5 * xi**2), -np.inf, +np.inf)\n",
      "<ipython-input-142-8e57c903d54c>:8: IntegrationWarning: The occurrence of roundoff error is detected, which prevents \n",
      "  the requested tolerance from being achieved.  The error may be \n",
      "  underestimated.\n",
      "  res = integrate.quad(lambda xi: jcc_chernoff_under_exp(x, t, xi) / np.sqrt(2 * np.pi) * np.exp(- 0.5 * xi**2), -np.inf, +np.inf)\n"
     ]
    },
    {
     "name": "stdout",
     "output_type": "stream",
     "text": [
      "obj: nan\n",
      "x: [0. 0. 1.]\n"
     ]
    }
   ],
   "source": [
    "eta = 0.1\n",
    "cost_coeffs = np.ones(n)\n",
    "res = minimize(fun=lambda x: objective_chernoff_barrier(cost_coeffs, x), x0=[0.0, 0.0, 1.0], method='Nelder-Mead')\n",
    "#linprog(c = cost_coeffs, A_ub = x_An, b_ub = x_bn + norm.ppf(eta), bounds=[(l[i], u[i]) for i in range(len(l))])\n",
    "print(\"obj:\", res.fun)\n",
    "print(\"x:\", res.x)"
   ]
  },
  {
   "cell_type": "code",
   "execution_count": 144,
   "metadata": {},
   "outputs": [
    {
     "name": "stdout",
     "output_type": "stream",
     "text": [
      "constraint value = nan\n",
      "original constraint value = 0.9986501019683699\n"
     ]
    },
    {
     "name": "stderr",
     "output_type": "stream",
     "text": [
      "<ipython-input-142-8e57c903d54c>:5: RuntimeWarning: overflow encountered in exp\n",
      "  return np.exp(max_val / t)\n",
      "<ipython-input-142-8e57c903d54c>:8: RuntimeWarning: invalid value encountered in double_scalars\n",
      "  res = integrate.quad(lambda xi: jcc_chernoff_under_exp(x, t, xi) / np.sqrt(2 * np.pi) * np.exp(- 0.5 * xi**2), -np.inf, +np.inf)\n",
      "<ipython-input-142-8e57c903d54c>:8: IntegrationWarning: The occurrence of roundoff error is detected, which prevents \n",
      "  the requested tolerance from being achieved.  The error may be \n",
      "  underestimated.\n",
      "  res = integrate.quad(lambda xi: jcc_chernoff_under_exp(x, t, xi) / np.sqrt(2 * np.pi) * np.exp(- 0.5 * xi**2), -np.inf, +np.inf)\n"
     ]
    }
   ],
   "source": [
    "print(\"constraint value =\", jcc_chernoff_constr(res.x))\n",
    "print(\"original constraint value =\", joint_cc_gt(res.x[:n]))"
   ]
  },
  {
   "cell_type": "code",
   "execution_count": null,
   "metadata": {},
   "outputs": [],
   "source": []
  }
 ],
 "metadata": {
  "kernelspec": {
   "display_name": "Python 3",
   "language": "python",
   "name": "python3"
  },
  "language_info": {
   "codemirror_mode": {
    "name": "ipython",
    "version": 3
   },
   "file_extension": ".py",
   "mimetype": "text/x-python",
   "name": "python",
   "nbconvert_exporter": "python",
   "pygments_lexer": "ipython3",
   "version": "3.8.3"
  }
 },
 "nbformat": 4,
 "nbformat_minor": 5
}
